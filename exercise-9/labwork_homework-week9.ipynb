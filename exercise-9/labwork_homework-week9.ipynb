{
 "cells": [
  {
   "cell_type": "markdown",
   "metadata": {},
   "source": [
    "## Describe the changes in Speciation rates across the Canidae lineage. \n",
    "\n",
    "* speciation rate is almost constant from 50-30 Ma and is around 0.27.\n",
    "there is a drop in speciation rate after around 32 Ma and it goes back up to around 0.25 after 5 Ma. \n",
    "\n",
    "\n",
    "## Describe the changes in Extinction rates across the Canidae lineage.\n",
    "* the extinction rate is constant from 50 Ma to about 2 Ma and is close to zero. then after 2 Ma there is a sudden jump in extinction rate which goes up to around 1.2. \n",
    "\n",
    "\n",
    "\n",
    "\n",
    "## Describe the changes in Diversification rates across the Canidae lineage.\n",
    "* net diversification rate is almost constant and very close to zerofrom 50 to around 2 Ma.(from 50-30 Ma it is around 0.3, from 30-20 Ma it is around 0.1 and from 20-10 Ma it is around 0, then from 10-2 Ma there is a small increase in diversification rate) then there is a sudden decrease in the diversification rate which goes down to around -0.12 and becomes constant up to present. "
   ]
  },
  {
   "cell_type": "markdown",
   "metadata": {},
   "source": [
    "## Create RTT plots for this new run. Do you see anything different about these RTT plots compared to the ones you had made with only 250000 steps in the MCMC chain?\n",
    "* when we run more stpes there is less error and so the shaded areas in the graphs are smaller(mostly) and smoother, also the small changes in the rates are mote obvious and clear, so the calculated rates are more accurate. \n"
   ]
  },
  {
   "cell_type": "code",
   "execution_count": null,
   "metadata": {
    "collapsed": true
   },
   "outputs": [],
   "source": []
  }
 ],
 "metadata": {
  "anaconda-cloud": {},
  "kernelspec": {
   "display_name": "Python [conda root]",
   "language": "python",
   "name": "conda-root-py"
  },
  "language_info": {
   "codemirror_mode": {
    "name": "ipython",
    "version": 3
   },
   "file_extension": ".py",
   "mimetype": "text/x-python",
   "name": "python",
   "nbconvert_exporter": "python",
   "pygments_lexer": "ipython3",
   "version": "3.5.2"
  }
 },
 "nbformat": 4,
 "nbformat_minor": 2
}

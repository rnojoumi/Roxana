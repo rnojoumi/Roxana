{
 "cells": [
  {
   "cell_type": "markdown",
   "metadata": {},
   "source": [
    "\n",
    "* How many fossils are included in the dataset?\n",
    "\n",
    "tail -n +2 canid_occ.csv | wc -l\n",
    "2946\n",
    "\n",
    "\n",
    "* How many fossils have been identified to genus-level only? How many to species-level?\n",
    "tail -n +2| cut -d \",\" -f 7 canid_occ.csv | uniq| grep -w \"species\"| wc -l\n",
    "2105\n",
    " \n",
    "tail -n +2| cut -d \",\" -f 7 canid_occ.csv | uniq| grep -w \"genus\"| wc -l\n",
    "606\n",
    "    \n",
    "* How many unique accepted names are part of this dataset?\n",
    "tail -n +2 |cut -d \",\" -f 6 canid_occ.csv | sort| uniq| wc -l\n",
    "211 \n",
    "\n",
    "\n",
    "\n",
    "\n",
    "\n",
    "\n",
    "* How can we change the sampling frequency of our PyRate run?\n",
    "-s (1000 sample freq.)\n",
    "   \n",
    "   \n",
    "* What does the -n flag achieve?\n",
    "-n (number of steps in mcmc chain)\n",
    "\n",
    "* summary of pyrate_mcmc_logs\n",
    "\n",
    "sum.txt\n",
    "\n",
    "Text file providing the complete list of settings used in the analysis.\n",
    "mcmc.log\n",
    "\n",
    "Tab-separated table with the MCMC samples of the posterior, prior, likelihoods of the preservation process and of the birth-death (indicated by PP_lik and BD_lik, respectively), the preservation rate (q_rate), the shape parameter of its gamma-distributed heterogeneity (alpha), the number of sampled rate shifts (k_birth, k_death), the time of origin of the oldest lineage (root_age), the total branch length (tot_length), and the times of speciation and extinction of all taxa in the data set (\\_TS* and \\_TE, respectively). When using the TPP model of preservation, the preservation rates between shifts are indicated as *q_0, q_1, ... q_n (from older to younger).\n",
    "marginal_rates.log\n",
    "\n",
    "Tab-separated table with the posterior samples of the marginal rates of speciation, extinction, and net diversification, calculated within 1 time unit (typically Myr). \n"
   ]
  }
 ],
 "metadata": {
  "anaconda-cloud": {},
  "kernelspec": {
   "display_name": "Python [conda root]",
   "language": "python",
   "name": "conda-root-py"
  },
  "language_info": {
   "codemirror_mode": {
    "name": "ipython",
    "version": 3
   },
   "file_extension": ".py",
   "mimetype": "text/x-python",
   "name": "python",
   "nbconvert_exporter": "python",
   "pygments_lexer": "ipython3",
   "version": "3.5.2"
  }
 },
 "nbformat": 4,
 "nbformat_minor": 2
}

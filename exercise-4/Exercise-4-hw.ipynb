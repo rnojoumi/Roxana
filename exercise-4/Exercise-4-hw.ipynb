{
 "cells": [
  {
   "cell_type": "code",
   "execution_count": 1,
   "metadata": {
    "collapsed": false
   },
   "outputs": [
    {
     "name": "stdout",
     "output_type": "stream",
     "text": [
      "100\n",
      "101\n",
      "102\n",
      "103\n",
      "104\n",
      "105\n",
      "106\n",
      "107\n",
      "108\n",
      "109\n",
      "110\n"
     ]
    }
   ],
   "source": [
    "#hw-1\n",
    "for number in range(100,111):\n",
    "    print(number)"
   ]
  },
  {
   "cell_type": "code",
   "execution_count": 5,
   "metadata": {
    "collapsed": false
   },
   "outputs": [
    {
     "name": "stdout",
     "output_type": "stream",
     "text": [
      "100\n",
      "101\n",
      "102\n",
      "103\n",
      "104\n",
      "105\n",
      "106\n",
      "107\n",
      "108\n",
      "109\n",
      "110\n"
     ]
    }
   ],
   "source": [
    "#hw-2\n",
    "current_number = 100\n",
    "while current_number<111:\n",
    "    print(current_number)\n",
    "    current_number= current_number+1"
   ]
  },
  {
   "cell_type": "code",
   "execution_count": 6,
   "metadata": {
    "collapsed": false
   },
   "outputs": [
    {
     "name": "stdout",
     "output_type": "stream",
     "text": [
      "100\n",
      "121\n",
      "144\n",
      "169\n",
      "196\n",
      "225\n"
     ]
    }
   ],
   "source": [
    "#hw-3\n",
    "for number in range(10,16):\n",
    "    square= number**2\n",
    "    print(square)"
   ]
  },
  {
   "cell_type": "code",
   "execution_count": 8,
   "metadata": {
    "collapsed": false
   },
   "outputs": [
    {
     "name": "stdout",
     "output_type": "stream",
     "text": [
      "Scooby is a character in that most glorious of cartoons, Scooby Doo.\n",
      "Shaggy is a character in that most glorious of cartoons, Scooby Doo.\n",
      "Velma is a character in that most glorious of cartoons, Scooby Doo.\n",
      "Daphne is a character in that most glorious of cartoons, Scooby Doo.\n",
      "Fred is a character in that most glorious of cartoons, Scooby Doo.\n"
     ]
    }
   ],
   "source": [
    "#hw-4\n",
    "k =  [\"Scooby\", \"Shaggy\", \"Velma\", \"Daphne\", \"Fred\"]\n",
    "for name in k:\n",
    "    print(name, \"is a character in that most glorious of cartoons, Scooby Doo.\")"
   ]
  },
  {
   "cell_type": "code",
   "execution_count": 27,
   "metadata": {
    "collapsed": false
   },
   "outputs": [],
   "source": [
    "#hw-5\n",
    "def fact_or_sum(number):\n",
    "    if type(number) != int:\n",
    "        print(\"error...please enter an integer\")\n",
    "    elif number == 0:\n",
    "        print(\"0\")\n",
    "    elif number%2 == 0:\n",
    "        suum=0\n",
    "        while number>0:\n",
    "            suum = suum+number\n",
    "            number= number -1\n",
    "        print(\"sum=\",suum)\n",
    "    elif number%2 != 0:\n",
    "        factorial=1\n",
    "        for fact in range(1,number+1):\n",
    "            factorial= fact* factorial\n",
    "        print(\"factorial=\", factorial)\n",
    "        "
   ]
  },
  {
   "cell_type": "code",
   "execution_count": 28,
   "metadata": {
    "collapsed": false
   },
   "outputs": [
    {
     "name": "stdout",
     "output_type": "stream",
     "text": [
      "factorial= 1\n"
     ]
    }
   ],
   "source": [
    "fact_or_sum(1)"
   ]
  },
  {
   "cell_type": "code",
   "execution_count": 29,
   "metadata": {
    "collapsed": false
   },
   "outputs": [
    {
     "name": "stdout",
     "output_type": "stream",
     "text": [
      "sum= 3\n"
     ]
    }
   ],
   "source": [
    "fact_or_sum(2)"
   ]
  },
  {
   "cell_type": "code",
   "execution_count": 30,
   "metadata": {
    "collapsed": false
   },
   "outputs": [
    {
     "name": "stdout",
     "output_type": "stream",
     "text": [
      "sum= 21\n"
     ]
    }
   ],
   "source": [
    "fact_or_sum(6)"
   ]
  },
  {
   "cell_type": "code",
   "execution_count": 31,
   "metadata": {
    "collapsed": false
   },
   "outputs": [
    {
     "name": "stdout",
     "output_type": "stream",
     "text": [
      "factorial= 120\n"
     ]
    }
   ],
   "source": [
    "fact_or_sum(5)"
   ]
  },
  {
   "cell_type": "code",
   "execution_count": null,
   "metadata": {
    "collapsed": true
   },
   "outputs": [],
   "source": []
  }
 ],
 "metadata": {
  "anaconda-cloud": {},
  "kernelspec": {
   "display_name": "Python [default]",
   "language": "python",
   "name": "python3"
  },
  "language_info": {
   "codemirror_mode": {
    "name": "ipython",
    "version": 3
   },
   "file_extension": ".py",
   "mimetype": "text/x-python",
   "name": "python",
   "nbconvert_exporter": "python",
   "pygments_lexer": "ipython3",
   "version": "3.5.2"
  }
 },
 "nbformat": 4,
 "nbformat_minor": 2
}

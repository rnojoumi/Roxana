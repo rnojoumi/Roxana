{
 "cells": [
  {
   "cell_type": "code",
   "execution_count": 5,
   "metadata": {
    "collapsed": false
   },
   "outputs": [],
   "source": [
    "#import data from fasta file, export a csv file with name of contig and number of times the sequence AATG was repeated in the contig.\n",
    "#first open the original file from its dirctory. then open a csv file to write \n"
   ]
  },
  {
   "cell_type": "code",
   "execution_count": 7,
   "metadata": {
    "collapsed": true
   },
   "outputs": [],
   "source": [
    "my_file = open(\"/home/eeb177-student/Desktop/eeb-177/CSB/unix/data/Marra2014_data.fasta\")\n",
    "output = open(\"contigoutput.csv\",\"w\")\n",
    "import re\n",
    "\n",
    "contig_dict={}\n",
    "\n",
    "#first contig in file\n",
    "contig_name=\"contig00001\"\n",
    "value=0\n",
    "for line in my_file:\n",
    "    if (re.match(pattern=\">\", string=line)): #take the line starting with >\n",
    "        \n",
    "        output.write(contig_name+\",\"+str(value)+\"\\n\") #write the contig name and value of the number of sequence found (from the previous step)\n",
    "        \n",
    "        contig_name = re.search(\">(\\w*)\\s.*\", line).group(1) #takes the name of the contig\n",
    "        \n",
    "        value=0\n",
    "    \n",
    "    else:\n",
    "            value=value+ len(re.findall(pattern=\"AATG|aatg\", string=line)) #take the number of the sequence found in each line not starting with > (add them up)\n",
    "    \n",
    "          \n",
    "my_file.close()\n",
    "output.close()\n",
    "    "
   ]
  },
  {
   "cell_type": "code",
   "execution_count": null,
   "metadata": {
    "collapsed": true
   },
   "outputs": [],
   "source": []
  }
 ],
 "metadata": {
  "anaconda-cloud": {},
  "kernelspec": {
   "display_name": "Python [default]",
   "language": "python",
   "name": "python3"
  },
  "language_info": {
   "codemirror_mode": {
    "name": "ipython",
    "version": 3
   },
   "file_extension": ".py",
   "mimetype": "text/x-python",
   "name": "python",
   "nbconvert_exporter": "python",
   "pygments_lexer": "ipython3",
   "version": "3.5.2"
  }
 },
 "nbformat": 4,
 "nbformat_minor": 2
}
